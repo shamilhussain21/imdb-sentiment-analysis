{
  "nbformat": 4,
  "nbformat_minor": 0,
  "metadata": {
    "colab": {
      "provenance": []
    },
    "kernelspec": {
      "name": "python3",
      "display_name": "Python 3"
    },
    "language_info": {
      "name": "python"
    }
  },
  "cells": [
    {
      "cell_type": "code",
      "execution_count": 1,
      "metadata": {
        "id": "TLGa3bwwEhyH"
      },
      "outputs": [],
      "source": [
        "# Sentiment Analysis of Movie Reviews from IMDB data"
      ]
    },
    {
      "cell_type": "code",
      "source": [
        "# Introduction\n",
        "# Sentiment Analysis determines the emotional tone (Positive, Negative, Neutral)\n",
        "# Classify movie reviews as either Positive or Negative"
      ],
      "metadata": {
        "id": "LKwYBDZVE0XF"
      },
      "execution_count": 2,
      "outputs": []
    },
    {
      "cell_type": "code",
      "source": [
        "# Importing libraries\n",
        "import nltk\n",
        "import random\n",
        "import string\n",
        "from nltk.corpus import movie_reviews\n",
        "from nltk.stem import WordNetLemmatizer\n",
        "from nltk.corpus import stopwords\n",
        "from nltk.stem import PorterStemmer\n",
        "\n",
        "\n",
        "from sklearn.model_selection import train_test_split\n",
        "from sklearn.feature_extraction.text import TfidfVectorizer\n",
        "from sklearn.naive_bayes import MultinomialNB\n",
        "from sklearn.linear_model import LogisticRegression\n",
        "from sklearn.metrics import accuracy_score, classification_report, confusion_matrix"
      ],
      "metadata": {
        "id": "-Uy4Xrf4Favf"
      },
      "execution_count": 3,
      "outputs": []
    },
    {
      "cell_type": "code",
      "source": [
        "# Download necessary NLTK resources\n",
        "nltk.download('movie_reviews')\n",
        "\n",
        "nltk.download('stopwords')\n",
        "\n",
        "nltk.download('wordnet')\n",
        "\n",
        "nltk.download('punkt_tab')"
      ],
      "metadata": {
        "colab": {
          "base_uri": "https://localhost:8080/"
        },
        "id": "ef3TwE6hHRuw",
        "outputId": "91a449a7-d2ae-481b-cefb-7a5976a7a555"
      },
      "execution_count": 5,
      "outputs": [
        {
          "output_type": "stream",
          "name": "stderr",
          "text": [
            "[nltk_data] Downloading package movie_reviews to /root/nltk_data...\n",
            "[nltk_data]   Unzipping corpora/movie_reviews.zip.\n",
            "[nltk_data] Downloading package stopwords to /root/nltk_data...\n",
            "[nltk_data]   Package stopwords is already up-to-date!\n",
            "[nltk_data] Downloading package wordnet to /root/nltk_data...\n",
            "[nltk_data]   Package wordnet is already up-to-date!\n",
            "[nltk_data] Downloading package punkt_tab to /root/nltk_data...\n",
            "[nltk_data]   Package punkt_tab is already up-to-date!\n"
          ]
        },
        {
          "output_type": "execute_result",
          "data": {
            "text/plain": [
              "True"
            ]
          },
          "metadata": {},
          "execution_count": 5
        }
      ]
    },
    {
      "cell_type": "code",
      "source": [
        "# Load the data\n",
        "documents_raw = [(movie_reviews.raw(fileid), category) for category in movie_reviews.categories() for fileid in movie_reviews.fileids(category)]"
      ],
      "metadata": {
        "id": "SAa2TiyKH0l0"
      },
      "execution_count": 6,
      "outputs": []
    },
    {
      "cell_type": "code",
      "source": [
        "documents_raw[1]"
      ],
      "metadata": {
        "colab": {
          "base_uri": "https://localhost:8080/"
        },
        "id": "zsWEqZ4xItty",
        "outputId": "468f9aef-f0c4-4eef-8e49-f3f12ab3e1fa"
      },
      "execution_count": 9,
      "outputs": [
        {
          "output_type": "execute_result",
          "data": {
            "text/plain": [
              "('the happy bastard\\'s quick movie review \\ndamn that y2k bug . \\nit\\'s got a head start in this movie starring jamie lee curtis and another baldwin brother ( william this time ) in a story regarding a crew of a tugboat that comes across a deserted russian tech ship that has a strangeness to it when they kick the power back on . \\nlittle do they know the power within . . . \\ngoing for the gore and bringing on a few action sequences here and there , virus still feels very empty , like a movie going for all flash and no substance . \\nwe don\\'t know why the crew was really out in the middle of nowhere , we don\\'t know the origin of what took over the ship ( just that a big pink flashy thing hit the mir ) , and , of course , we don\\'t know why donald sutherland is stumbling around drunkenly throughout . \\nhere , it\\'s just \" hey , let\\'s chase these people around with some robots \" . \\nthe acting is below average , even from the likes of curtis . \\nyou\\'re more likely to get a kick out of her work in halloween h20 . \\nsutherland is wasted and baldwin , well , he\\'s acting like a baldwin , of course . \\nthe real star here are stan winston\\'s robot design , some schnazzy cgi , and the occasional good gore shot , like picking into someone\\'s brain . \\nso , if robots and body parts really turn you on , here\\'s your movie . \\notherwise , it\\'s pretty much a sunken ship of a movie . \\n',\n",
              " 'neg')"
            ]
          },
          "metadata": {},
          "execution_count": 9
        }
      ]
    },
    {
      "cell_type": "code",
      "source": [
        "# Shuffle the document for unbiased splitting.\n",
        "random.seed(42)\n",
        "random.shuffle(documents_raw)\n",
        "print(f'Number of documents:{len(documents_raw)}')\n",
        "print(f'First document:{documents_raw[0]}')\n",
        "print(f'Sentiment of first document:{documents_raw[0][1]}')"
      ],
      "metadata": {
        "colab": {
          "base_uri": "https://localhost:8080/"
        },
        "id": "b_4Q8fuwIwLO",
        "outputId": "7a61483e-d778-44b1-f3dd-523fd612c5c5"
      },
      "execution_count": 10,
      "outputs": [
        {
          "output_type": "stream",
          "name": "stdout",
          "text": [
            "Number of documents:2000\n",
            "First document:(\"mr . bean , a bumbling security guard from england is sent to la to help with the grandiose homecoming of a masterpiece american painting . \\nthe first two words should have said enough to let you know what occurs during bean's trip to la , but if they didn't look out because you are in for a rather interesting if not odd ride . \\nheck depending on your humor you might end up laughing through the whole flick . \\neither way look out america bean is coming . \\nwell , what can really be said about this movie , there is very little discernible plot . \\nthat much is not hard to grapple with for it is a slapstick comedy . \\nit achieves that goal rather admirably , but because it is that , the plot is just screaming for help . \\nthe whole premise that the movie is based on is to say the least flawed . \\nthe movie had its funny moments but there was no real story line other than something that could be thought up on a whim and carried through and in many causes ad-libbed as you went . \\ndon't go into this movie expecting and theatrical masterpiece . \\nbut if this form of humor floats your boat then you will truly enjoy this movie , even if you don't like slapstick style humor you will end up laughing because something's are just so stupid . \\nthe movie goes out and accomplishes what it aims , or so it seems . \\nnow when you look at the acting in this movie you have to think about two things , first was there any real acting and how hard is it to act in the slapstick manner . \\nwell , there was no real acting in this movie but some of the slapstick wasn't the easiest i am sure . \\ni have to concede that mr . atkinson's acting in this movie is well done . \\nalthough the role isn't too demanding the slapstick is . \\ni think that the character could have had a bit more dialogue , it would have added quite a bit to the overall effect of the movie . \\nnow the rest of the actors in the movie , bad acting and poor casting . \\ni think that the role opposite bean could have been better , just seemed wrong for the movie . \\na different actor might have done a better job of it but i wont presume that wasn't what was trying to be achieved . \\none thing that i must say , simply to get if off my chest is that i think transferring a sitcom to tv usually produces rather disastrous results . \\ntv shows should do just that stay on tv , it will probably save some producers from getting ulcers . \\ni can only think of a couple examples of tv going to the big screen effectively , the best known of those would have to be star trek . \\nbean seriously fails to accomplish anything close to what that series gone movie achieved . \\nnow another thing that i have to state again is this movie has narrowed its target audience fairly tightly . \\nthe form of humor in this movie will not be liked by most people , these people will think like i did that this movie is stupid and pointless . \\nbut if you like the tv show you might actually like this movie . \\nbut to be on the safe side i am opting to recommend you save your money and not go to see this movie . \\nthere are many movies that are truly worth seeing unlike this one . \\n\", 'neg')\n",
            "Sentiment of first document:neg\n"
          ]
        }
      ]
    },
    {
      "cell_type": "code",
      "source": [
        "# Separate reviews and their labels\n",
        "reviews_text = [doc[0] for doc in documents_raw]\n",
        "sentiments = [1 if doc[1] =='pos' else 0 for doc in documents_raw]"
      ],
      "metadata": {
        "id": "1PngQHFXKCO2"
      },
      "execution_count": 11,
      "outputs": []
    },
    {
      "cell_type": "code",
      "source": [
        "# Step 2 - Text Preprocessing"
      ],
      "metadata": {
        "id": "m81gFuYwK6TS"
      },
      "execution_count": 12,
      "outputs": []
    },
    {
      "cell_type": "code",
      "source": [
        "# initialize lemmatizer and stopword list\n",
        "lemmatizer = WordNetLemmatizer()\n",
        "\n",
        "stop_words = set(stopwords.words('english'))\n",
        "\n",
        "punctuation = set(string.punctuation)\n",
        "\n",
        "\n",
        "def preprocess_text(text):\n",
        "  \"\"\"\n",
        "  Clean the data, tokenize the data, lowercase, remove stopwords, remove punctuations, lemmatize\n",
        "  \"\"\"\n",
        "  # lowercase the text\n",
        "  text = text.lower()\n",
        "\n",
        "  # tokenize the text\n",
        "  words = nltk.word_tokenize(text)\n",
        "\n",
        "  # clean,filter and lemmatize tokens\n",
        "\n",
        "  processed_words = []\n",
        "  for word in words:\n",
        "    cleaned_word = ''.join(char for char in word if char not in punctuation)\n",
        "\n",
        "    if cleaned_word and cleaned_word not in stop_words and cleaned_word.isalpha():\n",
        "      lemmatized_word = lemmatizer.lemmatize(cleaned_word)\n",
        "      processed_words.append(lemmatized_word)\n",
        "\n",
        "  return processed_words"
      ],
      "metadata": {
        "id": "TiwwL7P5LEaI"
      },
      "execution_count": 21,
      "outputs": []
    },
    {
      "cell_type": "code",
      "source": [
        "# Apply the preprocessing to all reviews\n",
        "\n",
        "preprocessed_reviews = [\" \".join(preprocess_text(review)) for review in reviews_text]\n",
        "\n",
        "print(f\"Example of preprocessed review :\")\n",
        "print(f'Original Review :{reviews_text[0][:200]}')\n",
        "print(f'Preprocessed Review :{preprocessed_reviews[0][:200]}')"
      ],
      "metadata": {
        "colab": {
          "base_uri": "https://localhost:8080/"
        },
        "id": "UQi1KBCMNpUN",
        "outputId": "58ca2a4d-e5f0-4412-92d1-3de47926f583"
      },
      "execution_count": 22,
      "outputs": [
        {
          "output_type": "stream",
          "name": "stdout",
          "text": [
            "Example of preprocessed review :\n",
            "Original Review :mr . bean , a bumbling security guard from england is sent to la to help with the grandiose homecoming of a masterpiece american painting . \n",
            "the first two words should have said enough to let you know\n",
            "Preprocessed Review :mr bean bumbling security guard england sent la help grandiose homecoming masterpiece american painting first two word said enough let know occurs bean trip la nt look rather interesting odd ride heck\n"
          ]
        }
      ]
    },
    {
      "cell_type": "code",
      "source": [
        "# Step 3 Feature Extraction (TF-IDF)\n",
        "\n",
        "# convert text data into numerical data using TF-IDF\n",
        "\n",
        "tfidf_vectorizer = TfidfVectorizer(max_features=5000, ngram_range=(1,2), min_df=5, max_df=0.7)\n",
        "\n"
      ],
      "metadata": {
        "id": "FVSfdWggOtCx"
      },
      "execution_count": 23,
      "outputs": []
    },
    {
      "cell_type": "code",
      "source": [
        "# Fit transform the training data\n",
        "\n",
        "X_train_text, X_test_text, y_train, y_test = train_test_split(preprocessed_reviews, sentiments, test_size=0.2, random_state= 42, stratify=sentiments)\n",
        "\n",
        "# Fit TF - IDF on the training data and transform training text\n",
        "\n",
        "X_train_tfidf = tfidf_vectorizer.fit_transform(X_train_text)\n",
        "\n",
        "X_test_tfidf = tfidf_vectorizer.transform(X_test_text)\n",
        "\n",
        "print(f\"Shape of TF-IDF training data: {X_train_tfidf.shape}\")\n",
        "print(f\"Shape of TF-IDF testing data: {X_test_tfidf.shape}\")\n",
        "print(f\"First 5 feature names: {tfidf_vectorizer.get_feature_names_out()[:5]}\")"
      ],
      "metadata": {
        "colab": {
          "base_uri": "https://localhost:8080/"
        },
        "id": "zwYSGG_sQNZI",
        "outputId": "6d5ab9be-844b-4355-f88b-aaa00da15434"
      },
      "execution_count": 24,
      "outputs": [
        {
          "output_type": "stream",
          "name": "stdout",
          "text": [
            "Shape of TF-IDF training data: (1600, 5000)\n",
            "Shape of TF-IDF testing data: (400, 5000)\n",
            "First 5 feature names: ['abandon' 'abandoned' 'ability' 'able' 'aboard']\n"
          ]
        }
      ]
    },
    {
      "cell_type": "code",
      "source": [
        "# Step 4 - Model training (Naive Bayes and Logistic Regression)\n",
        "\n",
        "nb_classifier = MultinomialNB()\n",
        "\n",
        "nb_classifier.fit(X_train_tfidf, y_train)\n",
        "\n",
        "print(f'Naive bayes trained')\n",
        "\n",
        "lr_classifier = LogisticRegression(solver='liblinear', random_state=42, C=1)\n",
        "lr_classifier.fit(X_train_tfidf, y_train)\n",
        "\n",
        "print(f'Logistic Regression trained')"
      ],
      "metadata": {
        "colab": {
          "base_uri": "https://localhost:8080/"
        },
        "id": "vvsHhGenSC8E",
        "outputId": "2f98e021-62db-4468-970f-f80b36fb9fd8"
      },
      "execution_count": 25,
      "outputs": [
        {
          "output_type": "stream",
          "name": "stdout",
          "text": [
            "Naive bayes trained\n",
            "Logistic Regression trained\n"
          ]
        }
      ]
    },
    {
      "cell_type": "code",
      "source": [
        "# Step 5 - Model Evaluation\n",
        "\n",
        "def evaluate_model(classifier, X_test_features, y_test_labels, model_name = \"Model\"):\n",
        "  y_pred = classifier.predict(X_test_features)\n",
        "\n",
        "  # calculate the accuracy\n",
        "  accuracy = accuracy_score(y_test_labels, y_pred)\n",
        "  print(f\"accuracy score {model_name}: {accuracy}\")\n",
        "\n",
        "  # generate classification report\n",
        "  print(f\"Classification report for Model : {model_name}\")\n",
        "  print(classification_report(y_test_labels, y_pred, target_names=['Negative (0)', 'Positive (1)']))\n",
        "\n",
        "  # Generate the confusion matrix\n",
        "  print(f\"Confusion Matrix for Model : {model_name}\")\n",
        "  cm = confusion_matrix(y_test_labels, y_pred)\n",
        "  print(cm)"
      ],
      "metadata": {
        "id": "i050yq9kUMfs"
      },
      "execution_count": 26,
      "outputs": []
    },
    {
      "cell_type": "code",
      "source": [
        "# Evaluate Naive Bayes\n",
        "evaluate_model(nb_classifier,X_test_tfidf, y_test, \"Naive Bayes\")"
      ],
      "metadata": {
        "colab": {
          "base_uri": "https://localhost:8080/"
        },
        "id": "4mgtAdcRV_0P",
        "outputId": "c929e806-2dd4-415e-8100-8a5d912b2ffa"
      },
      "execution_count": 27,
      "outputs": [
        {
          "output_type": "stream",
          "name": "stdout",
          "text": [
            "accuracy score Naive Bayes: 0.785\n",
            "Classification report for Model : Naive Bayes\n",
            "              precision    recall  f1-score   support\n",
            "\n",
            "Negative (0)       0.75      0.84      0.80       200\n",
            "Positive (1)       0.82      0.72      0.77       200\n",
            "\n",
            "    accuracy                           0.79       400\n",
            "   macro avg       0.79      0.78      0.78       400\n",
            "weighted avg       0.79      0.79      0.78       400\n",
            "\n",
            "Confusion Matrix for Model : Naive Bayes\n",
            "[[169  31]\n",
            " [ 55 145]]\n"
          ]
        }
      ]
    },
    {
      "cell_type": "code",
      "source": [
        "# Evaluate Logistic Regression\n",
        "evaluate_model(lr_classifier, X_test_tfidf, y_test, \"Logistic Regression\")"
      ],
      "metadata": {
        "colab": {
          "base_uri": "https://localhost:8080/"
        },
        "id": "hIThQUUdWRaH",
        "outputId": "0c33be6e-7fd7-4e6c-f92e-b965419eda9d"
      },
      "execution_count": 28,
      "outputs": [
        {
          "output_type": "stream",
          "name": "stdout",
          "text": [
            "accuracy score Logistic Regression: 0.825\n",
            "Classification report for Model : Logistic Regression\n",
            "              precision    recall  f1-score   support\n",
            "\n",
            "Negative (0)       0.82      0.82      0.82       200\n",
            "Positive (1)       0.82      0.82      0.82       200\n",
            "\n",
            "    accuracy                           0.82       400\n",
            "   macro avg       0.82      0.82      0.82       400\n",
            "weighted avg       0.82      0.82      0.82       400\n",
            "\n",
            "Confusion Matrix for Model : Logistic Regression\n",
            "[[165  35]\n",
            " [ 35 165]]\n"
          ]
        }
      ]
    },
    {
      "cell_type": "code",
      "source": [
        "# Step 6 - Testing with custom input\n",
        "\n",
        "def predict_sentiment_tfidf(text, vectorizer, classifier):\n",
        "  #1 Preprocess the input text\n",
        "  preprocessed_text = \" \".join(preprocess_text(text))\n",
        "\n",
        "  #2 Transform the preprocessed text into TF-IDF vector\n",
        "  text_vector = vectorizer.transform([preprocessed_text])\n",
        "\n",
        "  #3 Predict the sentiment using the trained classifier\n",
        "  prediction_probability = classifier.predict_proba(text_vector)[0]\n",
        "  prediction = classifier.predict(text_vector)[0]\n",
        "\n",
        "  sentiment = \"Positive\" if prediction == 1 else \"Negative\"\n",
        "\n",
        "  confidence_pos = prediction_probability[1]\n",
        "  confidence_neg = prediction_probability[0]\n",
        "\n",
        "  return sentiment, confidence_pos if prediction ==1 else confidence_neg"
      ],
      "metadata": {
        "id": "Bva929QrWyPU"
      },
      "execution_count": 29,
      "outputs": []
    },
    {
      "cell_type": "code",
      "source": [
        "# Testing with custom review\n",
        "\n",
        "review_1 = \"This movie was absolutely fantastic. A masterpiece of cinema\"\n",
        "\n",
        "review_2 = \"This movie was terrible. I did not enjoyed at all\"\n",
        "\n",
        "\n",
        "for review in [review_1, review_2]:\n",
        "  pred_sentiment, pred_confidence = predict_sentiment_tfidf(review,tfidf_vectorizer, lr_classifier)\n",
        "  print(f\"Review : {review}\")\n",
        "  print(f'Predicted sentiment : {pred_sentiment}, Confidence : {pred_confidence}')"
      ],
      "metadata": {
        "colab": {
          "base_uri": "https://localhost:8080/"
        },
        "id": "7jKIWnZLY88L",
        "outputId": "5e5fd2d6-7983-4da0-b2cd-d06d40f12bfa"
      },
      "execution_count": 30,
      "outputs": [
        {
          "output_type": "stream",
          "name": "stdout",
          "text": [
            "Review : This movie was absolutely fantastic. A masterpiece of cinema\n",
            "Predicted sentiment : Positive, Confidence : 0.6536673853388507\n",
            "Review : This movie was terrible. I did not enjoyed at all\n",
            "Predicted sentiment : Negative, Confidence : 0.5575248729111488\n"
          ]
        }
      ]
    },
    {
      "cell_type": "code",
      "source": [],
      "metadata": {
        "id": "F1YqJAaNaIFf"
      },
      "execution_count": null,
      "outputs": []
    }
  ]
}